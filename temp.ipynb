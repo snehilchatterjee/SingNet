{
 "cells": [
  {
   "cell_type": "code",
   "execution_count": 1,
   "id": "323397d7-d73f-483a-b1b5-4d7dbaf64058",
   "metadata": {},
   "outputs": [
    {
     "data": {
      "text/plain": [
       "'https://s3.amazonaws.com/fast-ai-coco/coco_sample.tgz'"
      ]
     },
     "execution_count": 1,
     "metadata": {},
     "output_type": "execute_result"
    }
   ],
   "source": [
    "from fastai.data.external import untar_data, URLs\n",
    "# coco_path = untar_data(URLs.COCO_SAMPLE)\n",
    "URLs.COCO_SAMPLE"
   ]
  },
  {
   "cell_type": "code",
   "execution_count": null,
   "id": "04840ff3-5207-40bb-bdba-5a35118ded3a",
   "metadata": {},
   "outputs": [],
   "source": []
  }
 ],
 "metadata": {
  "kernelspec": {
   "display_name": "Python 3 (ipykernel)",
   "language": "python",
   "name": "python3"
  },
  "language_info": {
   "codemirror_mode": {
    "name": "ipython",
    "version": 3
   },
   "file_extension": ".py",
   "mimetype": "text/x-python",
   "name": "python",
   "nbconvert_exporter": "python",
   "pygments_lexer": "ipython3",
   "version": "3.11.5"
  }
 },
 "nbformat": 4,
 "nbformat_minor": 5
}
